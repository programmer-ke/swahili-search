{
 "cells": [
  {
   "cell_type": "markdown",
   "id": "a8dfb740-4d28-4d16-b955-be95e2bd4544",
   "metadata": {},
   "source": [
    "# Search Engine for Swahili Text"
   ]
  },
  {
   "cell_type": "markdown",
   "id": "2f38ceb5-9477-4749-86f0-cc04fb534b7f",
   "metadata": {},
   "source": [
    "Install dependencies"
   ]
  },
  {
   "cell_type": "code",
   "execution_count": 1,
   "id": "6f3aa7a1-27a9-445e-9503-15813483e7bb",
   "metadata": {},
   "outputs": [],
   "source": [
    "!pip install -q requests pandas scikit-learn jupyter transformers tqdm\n",
    "!pip install -q torch torchvision torchaudio --index-url https://download.pytorch.org/whl/cpu"
   ]
  },
  {
   "cell_type": "code",
   "execution_count": 2,
   "id": "332e9b46-4854-4ff9-a507-792050d04931",
   "metadata": {},
   "outputs": [],
   "source": [
    "import pandas as pd\n",
    "import requests\n",
    "import io\n",
    "import numpy as np"
   ]
  },
  {
   "cell_type": "markdown",
   "id": "3028a80c-fa18-4670-a9e3-d9e328b9f36f",
   "metadata": {},
   "source": [
    "## Get the data"
   ]
  },
  {
   "cell_type": "markdown",
   "id": "aaaf22d4-cf8b-4e12-bf75-eb5af94a8b36",
   "metadata": {},
   "source": [
    "Download the data. We shall be using Swahili news text data from the [masakhane-ner][0] project.\n",
    "\n",
    "[0]: https://github.com/masakhane-io/masakhane-ner/tree/main/text_by_language/swahili"
   ]
  },
  {
   "cell_type": "code",
   "execution_count": 3,
   "id": "d0d84eac-6269-46e0-be96-5e70c3815c0a",
   "metadata": {},
   "outputs": [],
   "source": [
    "docs_url = 'https://raw.githubusercontent.com/masakhane-io/masakhane-ner/main/text_by_language/swahili/voa_clean_final.txt'\n",
    "docs_response = requests.get(docs_url)\n",
    "documents_raw = docs_response.text"
   ]
  },
  {
   "cell_type": "markdown",
   "id": "32d45f8b-179a-4227-9b72-8f36ed497ef5",
   "metadata": {},
   "source": [
    "We convert the documents into a pandas Dataframe. Each line in the raw format is a sentence from the VOA swahili version news articles. We use the StringIO object to extract line by line."
   ]
  },
  {
   "cell_type": "code",
   "execution_count": 4,
   "id": "539e229d-a091-4e4f-a940-55f0a173627b",
   "metadata": {},
   "outputs": [
    {
     "data": {
      "text/html": [
       "<div>\n",
       "<style scoped>\n",
       "    .dataframe tbody tr th:only-of-type {\n",
       "        vertical-align: middle;\n",
       "    }\n",
       "\n",
       "    .dataframe tbody tr th {\n",
       "        vertical-align: top;\n",
       "    }\n",
       "\n",
       "    .dataframe thead th {\n",
       "        text-align: right;\n",
       "    }\n",
       "</style>\n",
       "<table border=\"1\" class=\"dataframe\">\n",
       "  <thead>\n",
       "    <tr style=\"text-align: right;\">\n",
       "      <th></th>\n",
       "      <th>documents</th>\n",
       "    </tr>\n",
       "  </thead>\n",
       "  <tbody>\n",
       "    <tr>\n",
       "      <th>7667</th>\n",
       "      <td>Wakati huohuo upande wa utetezi uliomwakilisha Jaji umesema hauna tena sababu ya kuwaita mashahidi wake, lakini itaomba mahakama hiyo kutupia mbali kesi hiyo kwa sababu serikali ya Nigeria imeshindwa kuthibitisha madai yake.</td>\n",
       "    </tr>\n",
       "    <tr>\n",
       "      <th>7668</th>\n",
       "      <td>Baadhi ya wananchi wa Nigeria wanadai kuwa hatua iliyochukuliwa na Rais Buhari, ni njama ya kumweka mwengine kutoka upande wa Kaskazini mwa Nigeria kuchukuwa cheo hicho cha Jaji Mkuu.</td>\n",
       "    </tr>\n",
       "    <tr>\n",
       "      <th>7669</th>\n",
       "      <td>Madai yao pia yanalenga suala la njama ya kurudi tena madarakani wakidai kuwa Buhari alikuwa akijitayarisha kushindania urais awamu ya pili na iwapo angeshindwa kesi ikifikishwa Mahakama Kuu kabisa, atakuwa na mtu wake wa karibu atakaye mwonea huruma na kuhakikisha kwamba anapata ushindi.</td>\n",
       "    </tr>\n",
       "    <tr>\n",
       "      <th>7670</th>\n",
       "      <td>Imetayarishwa na Mwandishi wetu, Collins Atohengbe, Nigeria</td>\n",
       "    </tr>\n",
       "    <tr>\n",
       "      <th>7671</th>\n",
       "      <td>Walinzi wa pwani ya Libya wamekamata wahamiaji 400 waliokuwa wakonjiani katika pwani ya Mediterranean ya nchi hiyo wakielekea Ulaya na kuwarejesha katika mji mkuu wa Tripoli masaa 24 yaliyopita, Shirika la uhamiaji la Umoja wa Mataifa UN limesema Jumapili.</td>\n",
       "    </tr>\n",
       "  </tbody>\n",
       "</table>\n",
       "</div>"
      ],
      "text/plain": [
       "                                                                                                                                                                                                                                                                                              documents\n",
       "7667                                                                   Wakati huohuo upande wa utetezi uliomwakilisha Jaji umesema hauna tena sababu ya kuwaita mashahidi wake, lakini itaomba mahakama hiyo kutupia mbali kesi hiyo kwa sababu serikali ya Nigeria imeshindwa kuthibitisha madai yake.\n",
       "7668                                                                                                            Baadhi ya wananchi wa Nigeria wanadai kuwa hatua iliyochukuliwa na Rais Buhari, ni njama ya kumweka mwengine kutoka upande wa Kaskazini mwa Nigeria kuchukuwa cheo hicho cha Jaji Mkuu.\n",
       "7669  Madai yao pia yanalenga suala la njama ya kurudi tena madarakani wakidai kuwa Buhari alikuwa akijitayarisha kushindania urais awamu ya pili na iwapo angeshindwa kesi ikifikishwa Mahakama Kuu kabisa, atakuwa na mtu wake wa karibu atakaye mwonea huruma na kuhakikisha kwamba anapata ushindi.\n",
       "7670                                                                                                                                                                                                                                        Imetayarishwa na Mwandishi wetu, Collins Atohengbe, Nigeria\n",
       "7671                                   Walinzi wa pwani ya Libya wamekamata wahamiaji 400 waliokuwa wakonjiani katika pwani ya Mediterranean ya nchi hiyo wakielekea Ulaya na kuwarejesha katika mji mkuu wa Tripoli masaa 24 yaliyopita, Shirika la uhamiaji la Umoja wa Mataifa UN limesema Jumapili."
      ]
     },
     "execution_count": 4,
     "metadata": {},
     "output_type": "execute_result"
    }
   ],
   "source": [
    "pd.set_option('display.max_colwidth', 999) # display full sentences\n",
    "\n",
    "in_memory_file = io.StringIO(documents_raw)\n",
    "df = pd.DataFrame([l.strip() for l in in_memory_file], columns=['documents'])\n",
    "df.tail()"
   ]
  },
  {
   "cell_type": "code",
   "execution_count": 5,
   "id": "c7d22dae-6129-4b92-b8ff-7023c69b1657",
   "metadata": {},
   "outputs": [
    {
     "data": {
      "text/plain": [
       "(7672, 1)"
      ]
     },
     "execution_count": 5,
     "metadata": {},
     "output_type": "execute_result"
    }
   ],
   "source": [
    "df.shape"
   ]
  },
  {
   "cell_type": "markdown",
   "id": "b00716e9-7499-449b-94dd-efbf50749149",
   "metadata": {},
   "source": [
    "The dataset consists of 7672 sentences in total."
   ]
  },
  {
   "cell_type": "markdown",
   "id": "e65a1d9f-d1bb-47be-824a-f734adad7a41",
   "metadata": {},
   "source": [
    "## Basic Text Search"
   ]
  },
  {
   "cell_type": "markdown",
   "id": "4acb20aa-c4c2-47a0-bf16-aec796c36cff",
   "metadata": {},
   "source": [
    "### Keyword Filtering\n",
    "\n",
    "Filter documents that contain the word 'waziri' (minister)."
   ]
  },
  {
   "cell_type": "code",
   "execution_count": 6,
   "id": "0c0e1383-7c72-44a2-b032-651235041fd4",
   "metadata": {},
   "outputs": [
    {
     "data": {
      "text/html": [
       "<div>\n",
       "<style scoped>\n",
       "    .dataframe tbody tr th:only-of-type {\n",
       "        vertical-align: middle;\n",
       "    }\n",
       "\n",
       "    .dataframe tbody tr th {\n",
       "        vertical-align: top;\n",
       "    }\n",
       "\n",
       "    .dataframe thead th {\n",
       "        text-align: right;\n",
       "    }\n",
       "</style>\n",
       "<table border=\"1\" class=\"dataframe\">\n",
       "  <thead>\n",
       "    <tr style=\"text-align: right;\">\n",
       "      <th></th>\n",
       "      <th>documents</th>\n",
       "    </tr>\n",
       "  </thead>\n",
       "  <tbody>\n",
       "    <tr>\n",
       "      <th>5</th>\n",
       "      <td>Nchini Afrika kusini watu 145 zaidi, wameambukizwa virusi vya Corona, na kujumulisha idadi ya watu 2,173 ambao wameambukizwa virusi vya Corona nchini humo.</td>\n",
       "    </tr>\n",
       "    <tr>\n",
       "      <th>6</th>\n",
       "      <td>Taarifa ya wizara ya afya hata hivyo haijasema idadi ya watu ambao wamekufa wala kupona kutokana na virusi vya Corona nchini humo.</td>\n",
       "    </tr>\n",
       "    <tr>\n",
       "      <th>7</th>\n",
       "      <td>Nchini Sudan, maafisa wameongeza mikakati zaidi ya kuzuia virusi vya Corona kusambaa.</td>\n",
       "    </tr>\n",
       "    <tr>\n",
       "      <th>9</th>\n",
       "      <td>Jumla ya watu 19 wamethibitishwa kuambukizwa virusi vya Corona nchini Sudan kusini.</td>\n",
       "    </tr>\n",
       "    <tr>\n",
       "      <th>41</th>\n",
       "      <td>“Upimaji wetu wa virusi vya corona ni wa juu zaidi (vipimo 25 milioni) na ambavyo vya utaalam wa juu, na inatufanya tuonekane kama tuna maambukizi mengi zaidi, hasa ukilinganisha na nchi nyingine,” alituma ujumbe wa tweet Jumapili jioni.</td>\n",
       "    </tr>\n",
       "    <tr>\n",
       "      <th>...</th>\n",
       "      <td>...</td>\n",
       "    </tr>\n",
       "    <tr>\n",
       "      <th>7569</th>\n",
       "      <td>Hatua zilizofuatia ni sampuli ilichukuliwa na kupelekwa maabara ya taifa ya afya ya jamii iliyopo Dar es Salaam kwa ajili ya uchunguzi na kubainika mgonjwa huyo ana virusi vya Corona.</td>\n",
       "    </tr>\n",
       "    <tr>\n",
       "      <th>7572</th>\n",
       "      <td>Kwa upande wake Mwakilishi Mkazi wa Shirika la Afya duniani (WHO) hapa nchini, Dk Tigest Katsela Mengestu, amesema ugonjwa wa Corona umekuwa tishio katika nchi mbalimbali, huku akiipongeza serikali ya Tanzania kutokana na hatua inazozichukua katika kukabiliana na ugonjwa huo.</td>\n",
       "    </tr>\n",
       "    <tr>\n",
       "      <th>7584</th>\n",
       "      <td>Hisia mseto ziliendelea kutolewa na wadau mbalimbali Jumanne baada ya kutangazwa kuahirishwa kwa michezo ya Olimpiki 2020 kutokana na janga la coronavirus.</td>\n",
       "    </tr>\n",
       "    <tr>\n",
       "      <th>7593</th>\n",
       "      <td>Katika taarifa ya pamoja siku ya Jumanne, waandalizi wa Tokyo 2020 na IOC walisema:  \"Kutokana na kasi ya mlipuko wa wa coronavirus hali kuwa mbaya duniani kote.</td>\n",
       "    </tr>\n",
       "    <tr>\n",
       "      <th>7608</th>\n",
       "      <td>Hatua hiyo imechukuliwa wakati wanasiasa nchini Burundi wanaendela na mikutano mikubwa ya kampeni kuelekea uchaguzi mkuu, licha ya onyo la wataalam wa afya likiwataka watu kutokaribiana katika juhudi za kudhibithi maambukizi ya virusi vya Corona.</td>\n",
       "    </tr>\n",
       "  </tbody>\n",
       "</table>\n",
       "<p>306 rows × 1 columns</p>\n",
       "</div>"
      ],
      "text/plain": [
       "                                                                                                                                                                                                                                                                                 documents\n",
       "5                                                                                                                              Nchini Afrika kusini watu 145 zaidi, wameambukizwa virusi vya Corona, na kujumulisha idadi ya watu 2,173 ambao wameambukizwa virusi vya Corona nchini humo.\n",
       "6                                                                                                                                                       Taarifa ya wizara ya afya hata hivyo haijasema idadi ya watu ambao wamekufa wala kupona kutokana na virusi vya Corona nchini humo.\n",
       "7                                                                                                                                                                                                    Nchini Sudan, maafisa wameongeza mikakati zaidi ya kuzuia virusi vya Corona kusambaa.\n",
       "9                                                                                                                                                                                                      Jumla ya watu 19 wamethibitishwa kuambukizwa virusi vya Corona nchini Sudan kusini.\n",
       "41                                           “Upimaji wetu wa virusi vya corona ni wa juu zaidi (vipimo 25 milioni) na ambavyo vya utaalam wa juu, na inatufanya tuonekane kama tuna maambukizi mengi zaidi, hasa ukilinganisha na nchi nyingine,” alituma ujumbe wa tweet Jumapili jioni.\n",
       "...                                                                                                                                                                                                                                                                                    ...\n",
       "7569                                                                                               Hatua zilizofuatia ni sampuli ilichukuliwa na kupelekwa maabara ya taifa ya afya ya jamii iliyopo Dar es Salaam kwa ajili ya uchunguzi na kubainika mgonjwa huyo ana virusi vya Corona.\n",
       "7572  Kwa upande wake Mwakilishi Mkazi wa Shirika la Afya duniani (WHO) hapa nchini, Dk Tigest Katsela Mengestu, amesema ugonjwa wa Corona umekuwa tishio katika nchi mbalimbali, huku akiipongeza serikali ya Tanzania kutokana na hatua inazozichukua katika kukabiliana na ugonjwa huo.\n",
       "7584                                                                                                                           Hisia mseto ziliendelea kutolewa na wadau mbalimbali Jumanne baada ya kutangazwa kuahirishwa kwa michezo ya Olimpiki 2020 kutokana na janga la coronavirus.\n",
       "7593                                                                                                                     Katika taarifa ya pamoja siku ya Jumanne, waandalizi wa Tokyo 2020 na IOC walisema:  \"Kutokana na kasi ya mlipuko wa wa coronavirus hali kuwa mbaya duniani kote.\n",
       "7608                                Hatua hiyo imechukuliwa wakati wanasiasa nchini Burundi wanaendela na mikutano mikubwa ya kampeni kuelekea uchaguzi mkuu, licha ya onyo la wataalam wa afya likiwataka watu kutokaribiana katika juhudi za kudhibithi maambukizi ya virusi vya Corona.\n",
       "\n",
       "[306 rows x 1 columns]"
      ]
     },
     "execution_count": 6,
     "metadata": {},
     "output_type": "execute_result"
    }
   ],
   "source": [
    "df[df.documents.str.contains(\"corona\", case=False)]"
   ]
  },
  {
   "cell_type": "markdown",
   "id": "a4f34659-b261-4bc9-9678-464696c2c0ec",
   "metadata": {},
   "source": [
    "### Vectorization\n",
    "\n",
    "#### Count Vectorization"
   ]
  },
  {
   "cell_type": "code",
   "execution_count": 7,
   "id": "0c7edb18-b6e2-43b7-8988-3a6357083795",
   "metadata": {},
   "outputs": [
    {
     "data": {
      "text/plain": [
       "(7672, 19056)"
      ]
     },
     "execution_count": 7,
     "metadata": {},
     "output_type": "execute_result"
    }
   ],
   "source": [
    "from sklearn.feature_extraction.text import CountVectorizer\n",
    "\n",
    "cv = CountVectorizer()\n",
    "X = cv.fit_transform(df.documents)\n",
    "X.shape"
   ]
  },
  {
   "cell_type": "code",
   "execution_count": 8,
   "id": "ab5db961-45f1-4eba-b360-2ac071aa0a67",
   "metadata": {},
   "outputs": [
    {
     "data": {
      "text/plain": [
       "(19056,\n",
       " array(['zulu', 'zuma', 'zungumza', 'zuri', 'zusha', 'zweli', 'évariste'],\n",
       "       dtype=object))"
      ]
     },
     "execution_count": 8,
     "metadata": {},
     "output_type": "execute_result"
    }
   ],
   "source": [
    "names = cv.get_feature_names_out()\n",
    "len(names), names[-7:]"
   ]
  },
  {
   "cell_type": "code",
   "execution_count": 9,
   "id": "4cf3c5ce-85ae-4a27-b4e5-ee473ab6a1c9",
   "metadata": {},
   "outputs": [
    {
     "data": {
      "text/html": [
       "<div>\n",
       "<style scoped>\n",
       "    .dataframe tbody tr th:only-of-type {\n",
       "        vertical-align: middle;\n",
       "    }\n",
       "\n",
       "    .dataframe tbody tr th {\n",
       "        vertical-align: top;\n",
       "    }\n",
       "\n",
       "    .dataframe thead th {\n",
       "        text-align: right;\n",
       "    }\n",
       "</style>\n",
       "<table border=\"1\" class=\"dataframe\">\n",
       "  <thead>\n",
       "    <tr style=\"text-align: right;\">\n",
       "      <th></th>\n",
       "      <th>00</th>\n",
       "      <th>000</th>\n",
       "      <th>002</th>\n",
       "      <th>01</th>\n",
       "      <th>02</th>\n",
       "      <th>023</th>\n",
       "      <th>041</th>\n",
       "      <th>043</th>\n",
       "      <th>052</th>\n",
       "      <th>069</th>\n",
       "      <th>...</th>\n",
       "      <th>zubaidi</th>\n",
       "      <th>zubeir</th>\n",
       "      <th>zuio</th>\n",
       "      <th>zulu</th>\n",
       "      <th>zuma</th>\n",
       "      <th>zungumza</th>\n",
       "      <th>zuri</th>\n",
       "      <th>zusha</th>\n",
       "      <th>zweli</th>\n",
       "      <th>évariste</th>\n",
       "    </tr>\n",
       "  </thead>\n",
       "  <tbody>\n",
       "    <tr>\n",
       "      <th>0</th>\n",
       "      <td>0</td>\n",
       "      <td>0</td>\n",
       "      <td>0</td>\n",
       "      <td>0</td>\n",
       "      <td>0</td>\n",
       "      <td>0</td>\n",
       "      <td>0</td>\n",
       "      <td>0</td>\n",
       "      <td>0</td>\n",
       "      <td>0</td>\n",
       "      <td>...</td>\n",
       "      <td>0</td>\n",
       "      <td>0</td>\n",
       "      <td>0</td>\n",
       "      <td>0</td>\n",
       "      <td>0</td>\n",
       "      <td>0</td>\n",
       "      <td>0</td>\n",
       "      <td>0</td>\n",
       "      <td>0</td>\n",
       "      <td>0</td>\n",
       "    </tr>\n",
       "    <tr>\n",
       "      <th>1</th>\n",
       "      <td>0</td>\n",
       "      <td>0</td>\n",
       "      <td>0</td>\n",
       "      <td>0</td>\n",
       "      <td>0</td>\n",
       "      <td>0</td>\n",
       "      <td>0</td>\n",
       "      <td>0</td>\n",
       "      <td>0</td>\n",
       "      <td>0</td>\n",
       "      <td>...</td>\n",
       "      <td>0</td>\n",
       "      <td>0</td>\n",
       "      <td>0</td>\n",
       "      <td>0</td>\n",
       "      <td>0</td>\n",
       "      <td>0</td>\n",
       "      <td>0</td>\n",
       "      <td>0</td>\n",
       "      <td>0</td>\n",
       "      <td>0</td>\n",
       "    </tr>\n",
       "    <tr>\n",
       "      <th>2</th>\n",
       "      <td>0</td>\n",
       "      <td>0</td>\n",
       "      <td>0</td>\n",
       "      <td>0</td>\n",
       "      <td>0</td>\n",
       "      <td>0</td>\n",
       "      <td>0</td>\n",
       "      <td>0</td>\n",
       "      <td>0</td>\n",
       "      <td>0</td>\n",
       "      <td>...</td>\n",
       "      <td>0</td>\n",
       "      <td>0</td>\n",
       "      <td>0</td>\n",
       "      <td>0</td>\n",
       "      <td>0</td>\n",
       "      <td>0</td>\n",
       "      <td>0</td>\n",
       "      <td>0</td>\n",
       "      <td>0</td>\n",
       "      <td>0</td>\n",
       "    </tr>\n",
       "    <tr>\n",
       "      <th>3</th>\n",
       "      <td>0</td>\n",
       "      <td>0</td>\n",
       "      <td>0</td>\n",
       "      <td>0</td>\n",
       "      <td>0</td>\n",
       "      <td>0</td>\n",
       "      <td>0</td>\n",
       "      <td>0</td>\n",
       "      <td>0</td>\n",
       "      <td>0</td>\n",
       "      <td>...</td>\n",
       "      <td>0</td>\n",
       "      <td>0</td>\n",
       "      <td>0</td>\n",
       "      <td>0</td>\n",
       "      <td>0</td>\n",
       "      <td>0</td>\n",
       "      <td>0</td>\n",
       "      <td>0</td>\n",
       "      <td>0</td>\n",
       "      <td>0</td>\n",
       "    </tr>\n",
       "    <tr>\n",
       "      <th>4</th>\n",
       "      <td>0</td>\n",
       "      <td>0</td>\n",
       "      <td>0</td>\n",
       "      <td>0</td>\n",
       "      <td>0</td>\n",
       "      <td>0</td>\n",
       "      <td>0</td>\n",
       "      <td>0</td>\n",
       "      <td>0</td>\n",
       "      <td>0</td>\n",
       "      <td>...</td>\n",
       "      <td>0</td>\n",
       "      <td>0</td>\n",
       "      <td>0</td>\n",
       "      <td>0</td>\n",
       "      <td>0</td>\n",
       "      <td>0</td>\n",
       "      <td>0</td>\n",
       "      <td>0</td>\n",
       "      <td>0</td>\n",
       "      <td>0</td>\n",
       "    </tr>\n",
       "  </tbody>\n",
       "</table>\n",
       "<p>5 rows × 19056 columns</p>\n",
       "</div>"
      ],
      "text/plain": [
       "   00  000  002  01  02  023  041  043  052  069  ...  zubaidi  zubeir  zuio  \\\n",
       "0   0    0    0   0   0    0    0    0    0    0  ...        0       0     0   \n",
       "1   0    0    0   0   0    0    0    0    0    0  ...        0       0     0   \n",
       "2   0    0    0   0   0    0    0    0    0    0  ...        0       0     0   \n",
       "3   0    0    0   0   0    0    0    0    0    0  ...        0       0     0   \n",
       "4   0    0    0   0   0    0    0    0    0    0  ...        0       0     0   \n",
       "\n",
       "   zulu  zuma  zungumza  zuri  zusha  zweli  évariste  \n",
       "0     0     0         0     0      0      0         0  \n",
       "1     0     0         0     0      0      0         0  \n",
       "2     0     0         0     0      0      0         0  \n",
       "3     0     0         0     0      0      0         0  \n",
       "4     0     0         0     0      0      0         0  \n",
       "\n",
       "[5 rows x 19056 columns]"
      ]
     },
     "execution_count": 9,
     "metadata": {},
     "output_type": "execute_result"
    }
   ],
   "source": [
    "df_docs = pd.DataFrame(X.toarray(), columns=names)\n",
    "df_docs.head()"
   ]
  },
  {
   "cell_type": "code",
   "execution_count": 10,
   "id": "29b3159f-b428-4882-bb51-1e2b815b4ad0",
   "metadata": {},
   "outputs": [
    {
     "data": {
      "text/plain": [
       "14            1\n",
       "19            1\n",
       "afya          1\n",
       "covid         1\n",
       "imeripoti     1\n",
       "jumatatu      1\n",
       "kuwa          1\n",
       "maambukizi    1\n",
       "takriban      1\n",
       "tanzania      1\n",
       "wamepata      1\n",
       "watu          1\n",
       "wizara        1\n",
       "ya            3\n",
       "zaidi         1\n",
       "Name: 0, dtype: int64"
      ]
     },
     "execution_count": 10,
     "metadata": {},
     "output_type": "execute_result"
    }
   ],
   "source": [
    "first_doc = df_docs.loc[0]\n",
    "first_doc[first_doc > 0]"
   ]
  },
  {
   "cell_type": "code",
   "execution_count": 11,
   "id": "15ece7d3-37fd-4468-80b4-6b991a2d8fcc",
   "metadata": {},
   "outputs": [
    {
     "data": {
      "text/plain": [
       "documents    Wizara ya afya ya Tanzania imeripoti Jumatatu kuwa, watu takriban 14 zaidi wamepata maambukizi ya Covid-19.\n",
       "Name: 0, dtype: object"
      ]
     },
     "execution_count": 11,
     "metadata": {},
     "output_type": "execute_result"
    }
   ],
   "source": [
    "df.loc[0]"
   ]
  },
  {
   "cell_type": "markdown",
   "id": "ee8212ec-9ea6-41a2-9cdd-f9208dcce8f2",
   "metadata": {},
   "source": [
    "The word 'ya' is an example of a stop word i.e. relatively insignificant words that can skew the results."
   ]
  },
  {
   "cell_type": "markdown",
   "id": "19b6e45f-5eb0-479e-921b-640a66902522",
   "metadata": {},
   "source": [
    "##### Query-Document similarity\n",
    "\n",
    "Representing the query in the same vector space."
   ]
  },
  {
   "cell_type": "code",
   "execution_count": 12,
   "id": "cec05222-297e-4a60-bce9-40515743e8d1",
   "metadata": {},
   "outputs": [
    {
     "data": {
      "text/plain": [
       "afrika         1\n",
       "afya           1\n",
       "corona         1\n",
       "janga          1\n",
       "kukabiliana    1\n",
       "kutafuta       1\n",
       "la             2\n",
       "na             2\n",
       "nchi           1\n",
       "njia           1\n",
       "shirika        1\n",
       "za             2\n",
       "Name: 0, dtype: int64"
      ]
     },
     "execution_count": 12,
     "metadata": {},
     "output_type": "execute_result"
    }
   ],
   "source": [
    "query = \"nchi za afrika zinajadiliana na shirika la afya kutafuta njia za kukabiliana na janga la corona\"\n",
    "q = cv.transform([query])\n",
    "df_query = pd.DataFrame(q.toarray(), columns=names)\n",
    "encoded_query = df_query.loc[0]\n",
    "encoded_query[encoded_query > 0]"
   ]
  },
  {
   "cell_type": "markdown",
   "id": "1c4fecac-520b-4325-b32a-da8d3cb5369e",
   "metadata": {},
   "source": [
    "The more the common words and counts between query and document, the more similar they are. We use dot-product to calculate the score between each document and query, then rank by score. For example, dot-product between query and first document:"
   ]
  },
  {
   "cell_type": "code",
   "execution_count": 13,
   "id": "e2501199-e566-4624-aa66-1b4662a10dad",
   "metadata": {},
   "outputs": [
    {
     "data": {
      "text/plain": [
       "np.int64(1)"
      ]
     },
     "execution_count": 13,
     "metadata": {},
     "output_type": "execute_result"
    }
   ],
   "source": [
    "(first_doc * encoded_query).sum()"
   ]
  },
  {
   "cell_type": "markdown",
   "id": "7a9d04dc-ab00-4252-bd1e-fc4b029cba9b",
   "metadata": {},
   "source": [
    "Across all the docs:"
   ]
  },
  {
   "cell_type": "code",
   "execution_count": 14,
   "id": "f36b9c54-3d87-4a66-b93c-a8f04c7db506",
   "metadata": {},
   "outputs": [],
   "source": [
    "query_vector = q.toarray().flatten()\n",
    "score = X.dot(query_vector)"
   ]
  },
  {
   "cell_type": "code",
   "execution_count": 15,
   "id": "ab3a70ea-56ce-4722-a365-f2cc32e708a6",
   "metadata": {},
   "outputs": [
    {
     "data": {
      "text/plain": [
       "(np.int64(2433), np.int64(30))"
      ]
     },
     "execution_count": 15,
     "metadata": {},
     "output_type": "execute_result"
    }
   ],
   "source": [
    "score.argmax(), score[2433]"
   ]
  },
  {
   "cell_type": "markdown",
   "id": "497ab467-8f44-430e-9659-77b040916601",
   "metadata": {},
   "source": [
    "The highest match is document at index 2443, with a score of 18. We can take a look at the document:"
   ]
  },
  {
   "cell_type": "code",
   "execution_count": 16,
   "id": "e254f5da-fc3b-4ddc-986f-05af6f27ae15",
   "metadata": {},
   "outputs": [
    {
     "data": {
      "text/plain": [
       "'”  Swali la msingi la Mueller  Swali la msingi la Mueller, mkurugenzi wa zamani wa FBI, ambalo anatafuta majibu : Ni iwapo Trump na wasaidizi wake walishirikiana na Warusi kuchafua kampeni ya mgombea wa chama cha Demokrat Hillary Clinton, mwaka 2016, kwa kutuma barua pepe zenye kudhalilisha zilizoibiwa kutoka Kamati ya Taifa ya chama cha Demokrat na mwenyekiti wa kampeni ya Clinton? Au iwapo Trump alikuwa amenufaika bila ya kukusudia na mbinu chafu za Russia? Na iwapo rais alijaribu kuharibu uchunguzi uliofuatia ili kujilinda yeye mwenyewe na washauri wa kisiasa na wasaidizi wake?  Huu ndio ujumbe wa Idara ya Sheria kwa bunge la Congress juu ya hitimisho la uchunguzi uliofanywa na Mueller.'"
      ]
     },
     "execution_count": 16,
     "metadata": {},
     "output_type": "execute_result"
    }
   ],
   "source": [
    "df.documents[2433]"
   ]
  },
  {
   "cell_type": "markdown",
   "id": "9c879d90-30b8-498d-9017-01e8c0d76876",
   "metadata": {},
   "source": [
    "Get the top 5 scores:"
   ]
  },
  {
   "cell_type": "code",
   "execution_count": 17,
   "id": "acbceea7-f682-4514-a927-2d44a6a07ce3",
   "metadata": {},
   "outputs": [],
   "source": [
    "top_idx = np.argsort(-score)[:10]"
   ]
  },
  {
   "cell_type": "code",
   "execution_count": 18,
   "id": "4bbd44c3-92df-4764-bc48-e69837873f20",
   "metadata": {},
   "outputs": [
    {
     "data": {
      "text/html": [
       "<div>\n",
       "<style scoped>\n",
       "    .dataframe tbody tr th:only-of-type {\n",
       "        vertical-align: middle;\n",
       "    }\n",
       "\n",
       "    .dataframe tbody tr th {\n",
       "        vertical-align: top;\n",
       "    }\n",
       "\n",
       "    .dataframe thead th {\n",
       "        text-align: right;\n",
       "    }\n",
       "</style>\n",
       "<table border=\"1\" class=\"dataframe\">\n",
       "  <thead>\n",
       "    <tr style=\"text-align: right;\">\n",
       "      <th></th>\n",
       "      <th>documents</th>\n",
       "    </tr>\n",
       "  </thead>\n",
       "  <tbody>\n",
       "    <tr>\n",
       "      <th>2433</th>\n",
       "      <td>”  Swali la msingi la Mueller  Swali la msingi la Mueller, mkurugenzi wa zamani wa FBI, ambalo anatafuta majibu : Ni iwapo Trump na wasaidizi wake walishirikiana na Warusi kuchafua kampeni ya mgombea wa chama cha Demokrat Hillary Clinton, mwaka 2016, kwa kutuma barua pepe zenye kudhalilisha zilizoibiwa kutoka Kamati ya Taifa ya chama cha Demokrat na mwenyekiti wa kampeni ya Clinton? Au iwapo Trump alikuwa amenufaika bila ya kukusudia na mbinu chafu za Russia? Na iwapo rais alijaribu kuharibu uchunguzi uliofuatia ili kujilinda yeye mwenyewe na washauri wa kisiasa na wasaidizi wake?  Huu ndio ujumbe wa Idara ya Sheria kwa bunge la Congress juu ya hitimisho la uchunguzi uliofanywa na Mueller.</td>\n",
       "    </tr>\n",
       "    <tr>\n",
       "      <th>6107</th>\n",
       "      <td>Lissu ameongeza kwamba “Kwa kutumia njia hizo za amri za kisiasa, vyombo vya ulinzi na usalama vikiwemo jeshi la wananchi la Tanzania, jeshi la polisi, taasisi ya kuzuia na kupambana na rushwa, na idara ya usalama wa taifa pamoja na mamlaka ya kodi TRA, vinatumika kukamata kwa nguvu na kutaifisha mali za wafanyabiashara wetu wa ndani na makampuni ya wawekezaji kutoka nje.</td>\n",
       "    </tr>\n",
       "    <tr>\n",
       "      <th>968</th>\n",
       "      <td>Akizungumza na shirika la habari la AFP Akram Taher mumini moja amesema “Sherehe za Eid hazifani manmo wakati huu wa hali ya janga la corona – watu wanahisia ya kua na hofu”  Bara la Asia  Waislam katika bara la Asia – kutoka Indonesia hadi Pakistan, Malaysia na Afghanistan – wamekusanyika katika masoko katika shamrashamra za manunuzi ya sikukuu, wakikiuka muongozo wa kudhibiti virusi vya corona na wakati mwengine polisi wakijaribu kutawanya mikusanyiko ya makundi makubwa.</td>\n",
       "    </tr>\n",
       "    <tr>\n",
       "      <th>530</th>\n",
       "      <td>Changamoto za uokozi  Msemaji wa shirika la kimataifa la msalaba mwekundu Caroline Haga ameliambia shirika la habari la AFP kwamba wafanyakazi wa uokozi wanakabiliwa na changamoto kubwa kuwafikia wanaohitaji msaada na wana wasiwasi na huzuni, kwani siku ya Jumanne walifanikiwa kuwaokoa watu 167 na kwamba muda unakimbia haraka sana na watu bado wamekwama na wako hatarini.</td>\n",
       "    </tr>\n",
       "    <tr>\n",
       "      <th>842</th>\n",
       "      <td>“Wakati hatuamini kuwa katika hatua hii, hali hiyo inahitaji kupitishwa azimio, kuna dalili zote za kututahadharisha kuwa mgogoro wa kuminywa kwa haki za binadamu unafukuta,” imesema barua hiyo, ambayo imesainiwa na Mtandao wa kutetea haki za binadamu wa Bara la Afrika, Shirika la Amnesty International, Shirika la ARTICLE 19, Shirika la Asian Forum for Human Rights and Development, Kituo cha Centre for Civil Liberties – Ukraine, Human Rights Watch na Tume ya International Commission of Jurists na taasisi nyingine.</td>\n",
       "    </tr>\n",
       "    <tr>\n",
       "      <th>5142</th>\n",
       "      <td>Rais Trump  Rais wa Marekani Donald Trump, anasema Biden, “amerusha baruti katika moto, na anajukumu la kutoa maelezo kwa watu wa Marekani juu ya mkakati na mpango wa kuhakikisha vikosi vyetu na wafanyakazi wa ubalozi, watu wetu na maslahi yetu, yote hapa nchini na nchi za nje, na washirika wetu katika eneo lote la Mashariki ya Kati na maeneo mengine.</td>\n",
       "    </tr>\n",
       "    <tr>\n",
       "      <th>5682</th>\n",
       "      <td>”  Ogwell amesema taasisi yake, ambayo ni shirika la ushauri wa kifundi la Umoja wa Afrika, anashirikiana na AU kuzijengea uwezo wa utayari nchi mbalimbali katika maeneo makuu matatu, ikiwemo kuboresha utoaji tahadhari katika bandari za nchi hizo na mahospitali; kuongeza utaalamu wa kuweza kupima kirusi COVID-19, ambao tayari nchi 43 wanauwezo huo; na kujenga uwezo wa kuzuia maambukizi na kudhibiti hali hiyo ili wagonjwa wenye maambukizi waweze kuwekewa karantini na kufuatiliwa.</td>\n",
       "    </tr>\n",
       "    <tr>\n",
       "      <th>4934</th>\n",
       "      <td>Morales alisema : \"Kaka na dada zangu nchini Bolivia na ulimwenguni kote, nawafahamisha niko hapa na Makamu wa Rais na Waziri wa Afya, na baada ya kuwasilikiliza rafiki zangu kutoka shirikisho la vuguvugu la kijamii na shirikisho la umoja wa kibiashara na pia kwa kusikiliza Kanisa Katoliki, natangaza kujiuzulu wadhifa wangu wa urais.</td>\n",
       "    </tr>\n",
       "    <tr>\n",
       "      <th>7355</th>\n",
       "      <td>Kiongozi huyo wa cheo cha juu katika nchi za falme za kiarabu aliwaambia waandishi wa habari alisikiliza mtazamo wa Jenerali Abdel Fattah Burhan kuhusu matatizo ya Sudan na yeye alimweleza mtazamo wa umoja wa falme za kiarabu kuhusiana na hali hii ya kisiasa nchini Sudan Katibu mkuu wa umoja wa nchi za falme za kiarabu alifanya mazungumzo mjini Khartoum Jumapili na baraza la jeshi linalotawala Sudan.</td>\n",
       "    </tr>\n",
       "    <tr>\n",
       "      <th>5437</th>\n",
       "      <td>Pamoja na kuwa wanashirikiana katika mipaka yao na kuwepo kwao katika wigo la kiuchumi la pamoja, nchi za Afrika Mashariki zinakuwa na hisia kali baina yao zinazotokana na tofauti zao za kiuchumi na kisiasa.</td>\n",
       "    </tr>\n",
       "  </tbody>\n",
       "</table>\n",
       "</div>"
      ],
      "text/plain": [
       "                                                                                                                                                                                                                                                                                                                                                                                                                                                                                                                                                                                                                                                                                                                       documents\n",
       "2433  ”  Swali la msingi la Mueller  Swali la msingi la Mueller, mkurugenzi wa zamani wa FBI, ambalo anatafuta majibu : Ni iwapo Trump na wasaidizi wake walishirikiana na Warusi kuchafua kampeni ya mgombea wa chama cha Demokrat Hillary Clinton, mwaka 2016, kwa kutuma barua pepe zenye kudhalilisha zilizoibiwa kutoka Kamati ya Taifa ya chama cha Demokrat na mwenyekiti wa kampeni ya Clinton? Au iwapo Trump alikuwa amenufaika bila ya kukusudia na mbinu chafu za Russia? Na iwapo rais alijaribu kuharibu uchunguzi uliofuatia ili kujilinda yeye mwenyewe na washauri wa kisiasa na wasaidizi wake?  Huu ndio ujumbe wa Idara ya Sheria kwa bunge la Congress juu ya hitimisho la uchunguzi uliofanywa na Mueller.\n",
       "6107                                                                                                                                                                                                                                                                                                                                      Lissu ameongeza kwamba “Kwa kutumia njia hizo za amri za kisiasa, vyombo vya ulinzi na usalama vikiwemo jeshi la wananchi la Tanzania, jeshi la polisi, taasisi ya kuzuia na kupambana na rushwa, na idara ya usalama wa taifa pamoja na mamlaka ya kodi TRA, vinatumika kukamata kwa nguvu na kutaifisha mali za wafanyabiashara wetu wa ndani na makampuni ya wawekezaji kutoka nje.\n",
       "968                                                                                                                                                                                                                                Akizungumza na shirika la habari la AFP Akram Taher mumini moja amesema “Sherehe za Eid hazifani manmo wakati huu wa hali ya janga la corona – watu wanahisia ya kua na hofu”  Bara la Asia  Waislam katika bara la Asia – kutoka Indonesia hadi Pakistan, Malaysia na Afghanistan – wamekusanyika katika masoko katika shamrashamra za manunuzi ya sikukuu, wakikiuka muongozo wa kudhibiti virusi vya corona na wakati mwengine polisi wakijaribu kutawanya mikusanyiko ya makundi makubwa.\n",
       "530                                                                                                                                                                                                                                                                                                                                        Changamoto za uokozi  Msemaji wa shirika la kimataifa la msalaba mwekundu Caroline Haga ameliambia shirika la habari la AFP kwamba wafanyakazi wa uokozi wanakabiliwa na changamoto kubwa kuwafikia wanaohitaji msaada na wana wasiwasi na huzuni, kwani siku ya Jumanne walifanikiwa kuwaokoa watu 167 na kwamba muda unakimbia haraka sana na watu bado wamekwama na wako hatarini.\n",
       "842                                                                                                                                                                                      “Wakati hatuamini kuwa katika hatua hii, hali hiyo inahitaji kupitishwa azimio, kuna dalili zote za kututahadharisha kuwa mgogoro wa kuminywa kwa haki za binadamu unafukuta,” imesema barua hiyo, ambayo imesainiwa na Mtandao wa kutetea haki za binadamu wa Bara la Afrika, Shirika la Amnesty International, Shirika la ARTICLE 19, Shirika la Asian Forum for Human Rights and Development, Kituo cha Centre for Civil Liberties – Ukraine, Human Rights Watch na Tume ya International Commission of Jurists na taasisi nyingine.\n",
       "5142                                                                                                                                                                                                                                                                                                                                                           Rais Trump  Rais wa Marekani Donald Trump, anasema Biden, “amerusha baruti katika moto, na anajukumu la kutoa maelezo kwa watu wa Marekani juu ya mkakati na mpango wa kuhakikisha vikosi vyetu na wafanyakazi wa ubalozi, watu wetu na maslahi yetu, yote hapa nchini na nchi za nje, na washirika wetu katika eneo lote la Mashariki ya Kati na maeneo mengine.\n",
       "5682                                                                                                                                                                                                                         ”  Ogwell amesema taasisi yake, ambayo ni shirika la ushauri wa kifundi la Umoja wa Afrika, anashirikiana na AU kuzijengea uwezo wa utayari nchi mbalimbali katika maeneo makuu matatu, ikiwemo kuboresha utoaji tahadhari katika bandari za nchi hizo na mahospitali; kuongeza utaalamu wa kuweza kupima kirusi COVID-19, ambao tayari nchi 43 wanauwezo huo; na kujenga uwezo wa kuzuia maambukizi na kudhibiti hali hiyo ili wagonjwa wenye maambukizi waweze kuwekewa karantini na kufuatiliwa.\n",
       "4934                                                                                                                                                                                                                                                                                                                                                                             Morales alisema : \"Kaka na dada zangu nchini Bolivia na ulimwenguni kote, nawafahamisha niko hapa na Makamu wa Rais na Waziri wa Afya, na baada ya kuwasilikiliza rafiki zangu kutoka shirikisho la vuguvugu la kijamii na shirikisho la umoja wa kibiashara na pia kwa kusikiliza Kanisa Katoliki, natangaza kujiuzulu wadhifa wangu wa urais.\n",
       "7355                                                                                                                                                                                                                                                                                                         Kiongozi huyo wa cheo cha juu katika nchi za falme za kiarabu aliwaambia waandishi wa habari alisikiliza mtazamo wa Jenerali Abdel Fattah Burhan kuhusu matatizo ya Sudan na yeye alimweleza mtazamo wa umoja wa falme za kiarabu kuhusiana na hali hii ya kisiasa nchini Sudan Katibu mkuu wa umoja wa nchi za falme za kiarabu alifanya mazungumzo mjini Khartoum Jumapili na baraza la jeshi linalotawala Sudan.\n",
       "5437                                                                                                                                                                                                                                                                                                                                                                                                                                                                                                             Pamoja na kuwa wanashirikiana katika mipaka yao na kuwepo kwao katika wigo la kiuchumi la pamoja, nchi za Afrika Mashariki zinakuwa na hisia kali baina yao zinazotokana na tofauti zao za kiuchumi na kisiasa."
      ]
     },
     "execution_count": 18,
     "metadata": {},
     "output_type": "execute_result"
    }
   ],
   "source": [
    "df.iloc[top_idx]"
   ]
  },
  {
   "cell_type": "markdown",
   "id": "c6501196-face-4088-b731-2af42847a86d",
   "metadata": {},
   "source": [
    "Using cosine similarity instead:"
   ]
  },
  {
   "cell_type": "code",
   "execution_count": 19,
   "id": "488529ba-c5f0-40c4-bafc-73cffbaeee57",
   "metadata": {},
   "outputs": [
    {
     "data": {
      "text/html": [
       "<div>\n",
       "<style scoped>\n",
       "    .dataframe tbody tr th:only-of-type {\n",
       "        vertical-align: middle;\n",
       "    }\n",
       "\n",
       "    .dataframe tbody tr th {\n",
       "        vertical-align: top;\n",
       "    }\n",
       "\n",
       "    .dataframe thead th {\n",
       "        text-align: right;\n",
       "    }\n",
       "</style>\n",
       "<table border=\"1\" class=\"dataframe\">\n",
       "  <thead>\n",
       "    <tr style=\"text-align: right;\">\n",
       "      <th></th>\n",
       "      <th>documents</th>\n",
       "    </tr>\n",
       "  </thead>\n",
       "  <tbody>\n",
       "    <tr>\n",
       "      <th>5437</th>\n",
       "      <td>Pamoja na kuwa wanashirikiana katika mipaka yao na kuwepo kwao katika wigo la kiuchumi la pamoja, nchi za Afrika Mashariki zinakuwa na hisia kali baina yao zinazotokana na tofauti zao za kiuchumi na kisiasa.</td>\n",
       "    </tr>\n",
       "    <tr>\n",
       "      <th>3022</th>\n",
       "      <td>“Inasikitisha kwamba nchi kadhaa duniani na mashirika mbalimbali, ikiwemo Marekani, China na shirika la afya duniani, yanakabiliwa na tishio la maambukizi ya Corona.</td>\n",
       "    </tr>\n",
       "    <tr>\n",
       "      <th>4808</th>\n",
       "      <td>Amesema \"mwanzoni tulizungumza kujifunza kutoka uzoefu wa nchi nyingine katika kupambana na janga la corona, sasa tunazungumzwa na nchi nyingine kama kielelezo hasi cha vita dhidi ya janga la corona Afrika na duniani.</td>\n",
       "    </tr>\n",
       "    <tr>\n",
       "      <th>664</th>\n",
       "      <td>Amesema \"mwanzoni tulizungumza kujifunza kutoka uzoefu wa nchi nyingine katika kupambana na janga la corona, sasa tunazungumzwa na nchi nyingine kama kielelezo hasi cha vita dhidi ya janga la corona Afrika na duniani.</td>\n",
       "    </tr>\n",
       "    <tr>\n",
       "      <th>6369</th>\n",
       "      <td>Mkurugenzi Mkuu wa Shirika la Afya Duniani Tedros Adhanom Ghebreyesus, ameonya kufungwa kwa mipaka ya nchi na kusitisha shughuli zote ili kupambana na janga la COVID 19 kunaweza kusababisha kuongezeka kwa vifo kutokana na ugonjwa wa Malaria katika nchi za Afrika.</td>\n",
       "    </tr>\n",
       "    <tr>\n",
       "      <th>4571</th>\n",
       "      <td>Shahidi mmoja aliliambia shirika la habari la Reuters katika wiki kadhaa za karibuni za maandamano yanayoipinga serikali yaliyochochewa na malalamiko ya kiuchumi na kisiasa.</td>\n",
       "    </tr>\n",
       "    <tr>\n",
       "      <th>6182</th>\n",
       "      <td>Ndege za kijeshi za India, zilivuka mpaka na kuingia katika nchi jirani ya Pakisan na kutekeleza mashambulizi dhidi ya kambi iliyodaiwa kuwa ya kutoa mafunzi kwa kundi la wanamgambo la Jaish-e-Mohammad, lililoripotiwa kuhusika na shambulizi la bomu la Kashmir.</td>\n",
       "    </tr>\n",
       "    <tr>\n",
       "      <th>6107</th>\n",
       "      <td>Lissu ameongeza kwamba “Kwa kutumia njia hizo za amri za kisiasa, vyombo vya ulinzi na usalama vikiwemo jeshi la wananchi la Tanzania, jeshi la polisi, taasisi ya kuzuia na kupambana na rushwa, na idara ya usalama wa taifa pamoja na mamlaka ya kodi TRA, vinatumika kukamata kwa nguvu na kutaifisha mali za wafanyabiashara wetu wa ndani na makampuni ya wawekezaji kutoka nje.</td>\n",
       "    </tr>\n",
       "    <tr>\n",
       "      <th>3191</th>\n",
       "      <td>SAA, shirika kubwa la ndege la Afrika liliingia katika mpango wa kujilinda kutokana na hali ya kufilisika mwezi Disemba 2019, na tangu wakati huo lililazimika kusitisha safari zake zote za abiria kutokana na janga la virusi vya korona kote duniani.</td>\n",
       "    </tr>\n",
       "    <tr>\n",
       "      <th>4993</th>\n",
       "      <td>Shirika la habari la China Xinhua linasema kutakuwa na karibu safari 200 za ndege kuingia na kutoka Wuhan Jumatano.</td>\n",
       "    </tr>\n",
       "  </tbody>\n",
       "</table>\n",
       "</div>"
      ],
      "text/plain": [
       "                                                                                                                                                                                                                                                                                                                                                                                   documents\n",
       "5437                                                                                                                                                                         Pamoja na kuwa wanashirikiana katika mipaka yao na kuwepo kwao katika wigo la kiuchumi la pamoja, nchi za Afrika Mashariki zinakuwa na hisia kali baina yao zinazotokana na tofauti zao za kiuchumi na kisiasa.\n",
       "3022                                                                                                                                                                                                                   “Inasikitisha kwamba nchi kadhaa duniani na mashirika mbalimbali, ikiwemo Marekani, China na shirika la afya duniani, yanakabiliwa na tishio la maambukizi ya Corona.\n",
       "4808                                                                                                                                                               Amesema \"mwanzoni tulizungumza kujifunza kutoka uzoefu wa nchi nyingine katika kupambana na janga la corona, sasa tunazungumzwa na nchi nyingine kama kielelezo hasi cha vita dhidi ya janga la corona Afrika na duniani.\n",
       "664                                                                                                                                                                Amesema \"mwanzoni tulizungumza kujifunza kutoka uzoefu wa nchi nyingine katika kupambana na janga la corona, sasa tunazungumzwa na nchi nyingine kama kielelezo hasi cha vita dhidi ya janga la corona Afrika na duniani.\n",
       "6369                                                                                                                 Mkurugenzi Mkuu wa Shirika la Afya Duniani Tedros Adhanom Ghebreyesus, ameonya kufungwa kwa mipaka ya nchi na kusitisha shughuli zote ili kupambana na janga la COVID 19 kunaweza kusababisha kuongezeka kwa vifo kutokana na ugonjwa wa Malaria katika nchi za Afrika.\n",
       "4571                                                                                                                                                                                                           Shahidi mmoja aliliambia shirika la habari la Reuters katika wiki kadhaa za karibuni za maandamano yanayoipinga serikali yaliyochochewa na malalamiko ya kiuchumi na kisiasa.\n",
       "6182                                                                                                                    Ndege za kijeshi za India, zilivuka mpaka na kuingia katika nchi jirani ya Pakisan na kutekeleza mashambulizi dhidi ya kambi iliyodaiwa kuwa ya kutoa mafunzi kwa kundi la wanamgambo la Jaish-e-Mohammad, lililoripotiwa kuhusika na shambulizi la bomu la Kashmir.\n",
       "6107  Lissu ameongeza kwamba “Kwa kutumia njia hizo za amri za kisiasa, vyombo vya ulinzi na usalama vikiwemo jeshi la wananchi la Tanzania, jeshi la polisi, taasisi ya kuzuia na kupambana na rushwa, na idara ya usalama wa taifa pamoja na mamlaka ya kodi TRA, vinatumika kukamata kwa nguvu na kutaifisha mali za wafanyabiashara wetu wa ndani na makampuni ya wawekezaji kutoka nje.\n",
       "3191                                                                                                                                SAA, shirika kubwa la ndege la Afrika liliingia katika mpango wa kujilinda kutokana na hali ya kufilisika mwezi Disemba 2019, na tangu wakati huo lililazimika kusitisha safari zake zote za abiria kutokana na janga la virusi vya korona kote duniani.\n",
       "4993                                                                                                                                                                                                                                                                     Shirika la habari la China Xinhua linasema kutakuwa na karibu safari 200 za ndege kuingia na kutoka Wuhan Jumatano."
      ]
     },
     "execution_count": 19,
     "metadata": {},
     "output_type": "execute_result"
    }
   ],
   "source": [
    "from sklearn.metrics.pairwise import cosine_similarity\n",
    "\n",
    "score = cosine_similarity(X, q).flatten()\n",
    "df.iloc[np.argsort(-score)[:10]]"
   ]
  },
  {
   "cell_type": "markdown",
   "id": "2aafce59-2f40-43b6-97c2-2b9d3c894b4d",
   "metadata": {},
   "source": [
    "Putting this together:"
   ]
  },
  {
   "cell_type": "code",
   "execution_count": 20,
   "id": "9c319a77-bf9a-41c4-a676-a872595e13ce",
   "metadata": {},
   "outputs": [],
   "source": [
    "def search(X, query, num_results=10):\n",
    "    score = cosine_similarity(X, query).flatten()\n",
    "    idx = np.argsort(-score)[:num_results]\n",
    "    return df.iloc[idx]"
   ]
  },
  {
   "cell_type": "markdown",
   "id": "29ce4f05-5507-47e6-bb5d-be4381623210",
   "metadata": {},
   "source": [
    "#### TF-IDF Vectorization\n",
    "\n",
    "Minimizes the effect of insignificant words"
   ]
  },
  {
   "cell_type": "code",
   "execution_count": 21,
   "id": "a632ea1c-508d-4427-ab92-2c56d3f69b00",
   "metadata": {},
   "outputs": [],
   "source": [
    "from sklearn.feature_extraction.text import TfidfVectorizer\n",
    "\n",
    "tfv = TfidfVectorizer()\n",
    "X = tfv.fit_transform(df.documents)\n",
    "q = tfv.transform([query])\n",
    "names = tfv.get_feature_names_out()"
   ]
  },
  {
   "cell_type": "code",
   "execution_count": 22,
   "id": "18b6236c-253f-40b1-bd9c-675806e156b1",
   "metadata": {},
   "outputs": [
    {
     "data": {
      "text/plain": [
       "14            0.311283\n",
       "19            0.260709\n",
       "afya          0.234890\n",
       "covid         0.273393\n",
       "imeripoti     0.327010\n",
       "jumatatu      0.253012\n",
       "kuwa          0.143414\n",
       "maambukizi    0.222536\n",
       "takriban      0.275575\n",
       "tanzania      0.210560\n",
       "wamepata      0.413453\n",
       "watu          0.161859\n",
       "wizara        0.255201\n",
       "ya            0.216513\n",
       "zaidi         0.186419\n",
       "Name: 0, dtype: float64"
      ]
     },
     "execution_count": 22,
     "metadata": {},
     "output_type": "execute_result"
    }
   ],
   "source": [
    "df_docs = pd.DataFrame(X.toarray(), columns=names)\n",
    "first_doc = df_docs.loc[0]\n",
    "first_doc[first_doc != 0]"
   ]
  },
  {
   "cell_type": "markdown",
   "id": "1b467362-2f67-455d-98f3-280a45b54556",
   "metadata": {},
   "source": [
    "Instead of simple counts, we have a score showing the importance of each term. Perform a search:"
   ]
  },
  {
   "cell_type": "code",
   "execution_count": 23,
   "id": "a76fc6b7-9799-4856-9dfc-05e633c42b74",
   "metadata": {},
   "outputs": [
    {
     "data": {
      "text/html": [
       "<div>\n",
       "<style scoped>\n",
       "    .dataframe tbody tr th:only-of-type {\n",
       "        vertical-align: middle;\n",
       "    }\n",
       "\n",
       "    .dataframe tbody tr th {\n",
       "        vertical-align: top;\n",
       "    }\n",
       "\n",
       "    .dataframe thead th {\n",
       "        text-align: right;\n",
       "    }\n",
       "</style>\n",
       "<table border=\"1\" class=\"dataframe\">\n",
       "  <thead>\n",
       "    <tr style=\"text-align: right;\">\n",
       "      <th></th>\n",
       "      <th>documents</th>\n",
       "    </tr>\n",
       "  </thead>\n",
       "  <tbody>\n",
       "    <tr>\n",
       "      <th>664</th>\n",
       "      <td>Amesema \"mwanzoni tulizungumza kujifunza kutoka uzoefu wa nchi nyingine katika kupambana na janga la corona, sasa tunazungumzwa na nchi nyingine kama kielelezo hasi cha vita dhidi ya janga la corona Afrika na duniani.</td>\n",
       "    </tr>\n",
       "    <tr>\n",
       "      <th>4808</th>\n",
       "      <td>Amesema \"mwanzoni tulizungumza kujifunza kutoka uzoefu wa nchi nyingine katika kupambana na janga la corona, sasa tunazungumzwa na nchi nyingine kama kielelezo hasi cha vita dhidi ya janga la corona Afrika na duniani.</td>\n",
       "    </tr>\n",
       "    <tr>\n",
       "      <th>2574</th>\n",
       "      <td>Mali, nchi yenye huduma mbaya za afya, iliandaa uchaguzi jumapili, licha ya janga la virusi vya Corona.</td>\n",
       "    </tr>\n",
       "    <tr>\n",
       "      <th>6369</th>\n",
       "      <td>Mkurugenzi Mkuu wa Shirika la Afya Duniani Tedros Adhanom Ghebreyesus, ameonya kufungwa kwa mipaka ya nchi na kusitisha shughuli zote ili kupambana na janga la COVID 19 kunaweza kusababisha kuongezeka kwa vifo kutokana na ugonjwa wa Malaria katika nchi za Afrika.</td>\n",
       "    </tr>\n",
       "    <tr>\n",
       "      <th>7116</th>\n",
       "      <td>China imesema Jumatano kuwa uamuzi wa Rais wa Marekani Donald Trump kusitisha ufadhili kwa Shirika la Afya Duniani kutaziathiri nchi zote wakati dunia ikikabiliwa na hatua muhimu ya kupambana na janga la virusi vya corona.</td>\n",
       "    </tr>\n",
       "    <tr>\n",
       "      <th>2311</th>\n",
       "      <td>Hatua hiyo imechukuliwa huku maambukizi yakiendelea kuongezeka kote duniani, na baada ya Shirika la Afya Duniani (WHO) kutangaza maambukizi ya Corona kuwa janga la kimataifa.</td>\n",
       "    </tr>\n",
       "    <tr>\n",
       "      <th>3022</th>\n",
       "      <td>“Inasikitisha kwamba nchi kadhaa duniani na mashirika mbalimbali, ikiwemo Marekani, China na shirika la afya duniani, yanakabiliwa na tishio la maambukizi ya Corona.</td>\n",
       "    </tr>\n",
       "    <tr>\n",
       "      <th>814</th>\n",
       "      <td>Katika ukosoaji wa nadra kwa umma, shirika la afya Duniani-WHO wiki iliyopita lilieleza kwamba katika kupingana na kanuni za kimataifa za afya, Tanzania ilikataa kutoa taarifa za kina za kesi zinazoshukiwa kuwa za Ebola.</td>\n",
       "    </tr>\n",
       "    <tr>\n",
       "      <th>911</th>\n",
       "      <td>Wakati huo huo, Museveni ametangaza mipango ya kuwarudisha Uganda raia wa nchi hiyo ambao wamekwama nchi za nje kutokana na janga la Corona.</td>\n",
       "    </tr>\n",
       "    <tr>\n",
       "      <th>1020</th>\n",
       "      <td>Kwa mujibu wa shirika la habari la Uingereza Reuters hisa za shirika la ndege la Ujerumani Luftansa zilipanda kwa asilimia 6.</td>\n",
       "    </tr>\n",
       "  </tbody>\n",
       "</table>\n",
       "</div>"
      ],
      "text/plain": [
       "                                                                                                                                                                                                                                                                    documents\n",
       "664                                                 Amesema \"mwanzoni tulizungumza kujifunza kutoka uzoefu wa nchi nyingine katika kupambana na janga la corona, sasa tunazungumzwa na nchi nyingine kama kielelezo hasi cha vita dhidi ya janga la corona Afrika na duniani.\n",
       "4808                                                Amesema \"mwanzoni tulizungumza kujifunza kutoka uzoefu wa nchi nyingine katika kupambana na janga la corona, sasa tunazungumzwa na nchi nyingine kama kielelezo hasi cha vita dhidi ya janga la corona Afrika na duniani.\n",
       "2574                                                                                                                                                                  Mali, nchi yenye huduma mbaya za afya, iliandaa uchaguzi jumapili, licha ya janga la virusi vya Corona.\n",
       "6369  Mkurugenzi Mkuu wa Shirika la Afya Duniani Tedros Adhanom Ghebreyesus, ameonya kufungwa kwa mipaka ya nchi na kusitisha shughuli zote ili kupambana na janga la COVID 19 kunaweza kusababisha kuongezeka kwa vifo kutokana na ugonjwa wa Malaria katika nchi za Afrika.\n",
       "7116                                           China imesema Jumatano kuwa uamuzi wa Rais wa Marekani Donald Trump kusitisha ufadhili kwa Shirika la Afya Duniani kutaziathiri nchi zote wakati dunia ikikabiliwa na hatua muhimu ya kupambana na janga la virusi vya corona.\n",
       "2311                                                                                           Hatua hiyo imechukuliwa huku maambukizi yakiendelea kuongezeka kote duniani, na baada ya Shirika la Afya Duniani (WHO) kutangaza maambukizi ya Corona kuwa janga la kimataifa.\n",
       "3022                                                                                                    “Inasikitisha kwamba nchi kadhaa duniani na mashirika mbalimbali, ikiwemo Marekani, China na shirika la afya duniani, yanakabiliwa na tishio la maambukizi ya Corona.\n",
       "814                                              Katika ukosoaji wa nadra kwa umma, shirika la afya Duniani-WHO wiki iliyopita lilieleza kwamba katika kupingana na kanuni za kimataifa za afya, Tanzania ilikataa kutoa taarifa za kina za kesi zinazoshukiwa kuwa za Ebola.\n",
       "911                                                                                                                              Wakati huo huo, Museveni ametangaza mipango ya kuwarudisha Uganda raia wa nchi hiyo ambao wamekwama nchi za nje kutokana na janga la Corona.\n",
       "1020                                                                                                                                            Kwa mujibu wa shirika la habari la Uingereza Reuters hisa za shirika la ndege la Ujerumani Luftansa zilipanda kwa asilimia 6."
      ]
     },
     "execution_count": 23,
     "metadata": {},
     "output_type": "execute_result"
    }
   ],
   "source": [
    "search(X, q)"
   ]
  },
  {
   "cell_type": "markdown",
   "id": "3d9b733a-2951-4e42-b606-d04e1fea7084",
   "metadata": {},
   "source": [
    "### Embeddings\n",
    "\n",
    "Moving beyond exact text matches to matching related concepts."
   ]
  },
  {
   "cell_type": "markdown",
   "id": "e843a4b6-8261-4895-9ea2-162689e8d1e2",
   "metadata": {},
   "source": [
    "#### Singular Value Decomposition (SVD)\n",
    "\n",
    "A mathematical technique that operates on a matrix to extract it's most important features. When used on a matrix representing the bag of words, it extracts association between words, thereby grouping words that are related close together in the vector space."
   ]
  },
  {
   "cell_type": "markdown",
   "id": "746921d4-6294-4078-ae90-f12c25bb10e2",
   "metadata": {},
   "source": [
    "We use the vector representation from the TF-IDF vectorizer to create embeddings:"
   ]
  },
  {
   "cell_type": "code",
   "execution_count": 24,
   "id": "81edb05a-7e2c-4ad2-be64-ccd2467a6e64",
   "metadata": {},
   "outputs": [],
   "source": [
    "from sklearn.decomposition import TruncatedSVD\n",
    "\n",
    "svd = TruncatedSVD(n_components=500)\n",
    "X_emb = svd.fit_transform(X)"
   ]
  },
  {
   "cell_type": "code",
   "execution_count": 25,
   "id": "d9fb48d3-e7b8-45dc-86c4-193404419246",
   "metadata": {},
   "outputs": [
    {
     "data": {
      "text/plain": [
       "(7672, 500)"
      ]
     },
     "execution_count": 25,
     "metadata": {},
     "output_type": "execute_result"
    }
   ],
   "source": [
    "X_emb.shape"
   ]
  },
  {
   "cell_type": "markdown",
   "id": "3bdf2ed4-ba03-4fd9-8718-0dca868aab8c",
   "metadata": {},
   "source": [
    "Create query embeddings:"
   ]
  },
  {
   "cell_type": "code",
   "execution_count": 26,
   "id": "eaddd348-dbb6-4104-97e8-e65396d335dc",
   "metadata": {},
   "outputs": [
    {
     "data": {
      "text/plain": [
       "<Compressed Sparse Row sparse matrix of dtype 'float64'\n",
       "\twith 12 stored elements and shape (1, 19056)>"
      ]
     },
     "execution_count": 26,
     "metadata": {},
     "output_type": "execute_result"
    }
   ],
   "source": [
    "q"
   ]
  },
  {
   "cell_type": "code",
   "execution_count": 27,
   "id": "715a8da2-5876-408a-bc8e-48d9f1dec562",
   "metadata": {},
   "outputs": [
    {
     "data": {
      "text/plain": [
       "(1, 500)"
      ]
     },
     "execution_count": 27,
     "metadata": {},
     "output_type": "execute_result"
    }
   ],
   "source": [
    "q_emb = svd.transform(q)\n",
    "q_emb.shape"
   ]
  },
  {
   "cell_type": "markdown",
   "id": "04285bf6-8938-4cc4-a3f0-1c12b0cc034c",
   "metadata": {},
   "source": [
    "Search the documents using SVD embeddings:"
   ]
  },
  {
   "cell_type": "markdown",
   "id": "4beab65e-f285-49a0-8096-ba8d8c56e894",
   "metadata": {},
   "source": [
    "search(X_emb, q_emb)"
   ]
  },
  {
   "cell_type": "markdown",
   "id": "87e74304-867b-4115-97c1-c67987e52dbc",
   "metadata": {},
   "source": [
    "#### BERT"
   ]
  },
  {
   "cell_type": "markdown",
   "id": "4b1871ff-36c3-4bdd-8b8a-2c29fa9ed150",
   "metadata": {},
   "source": [
    "The previous methods all used the bag-of-words approach, i.e. the order of words wasn't taken into account. BERT is a transformer model that accounts for order of words. We'll use a pretrained BERT model fine-tuned on swahili.\n",
    "\n",
    "We'll need the tokenizer to convert the text into vectors according to the model's vocabulary, then the model will create embeddings."
   ]
  },
  {
   "cell_type": "code",
   "execution_count": 33,
   "id": "32cbbe2b-153d-4883-8a6b-486b030b8031",
   "metadata": {},
   "outputs": [
    {
     "name": "stderr",
     "output_type": "stream",
     "text": [
      "/home/krm/projects/search-engine/.venv/lib/python3.12/site-packages/transformers/tokenization_utils_base.py:1601: FutureWarning: `clean_up_tokenization_spaces` was not set. It will be set to `True` by default. This behavior will be depracted in transformers v4.45, and will be then set to `False` by default. For more details check this issue: https://github.com/huggingface/transformers/issues/31884\n",
      "  warnings.warn(\n"
     ]
    }
   ],
   "source": [
    "# Load model directly\n",
    "from transformers import AutoTokenizer, AutoModelForSequenceClassification\n",
    "\n",
    "tokenizer = AutoTokenizer.from_pretrained(\"flax-community/bert-swahili-news-classification\")\n",
    "model = AutoModelForSequenceClassification.from_pretrained(\"flax-community/bert-swahili-news-classification\")"
   ]
  },
  {
   "cell_type": "markdown",
   "id": "4b61a5b3-c793-4017-aa3c-568669ec4230",
   "metadata": {},
   "source": [
    "Using two documents from our text corpus, we run through the process of creating embeddings:"
   ]
  },
  {
   "cell_type": "code",
   "execution_count": 87,
   "id": "9019e3fb-08d2-4980-95db-2eb9e5dc2c47",
   "metadata": {},
   "outputs": [],
   "source": [
    "texts = df.documents[:2].tolist()\n",
    "encoded_text = tokenizer(texts, padding=True, return_tensors='pt')"
   ]
  },
  {
   "cell_type": "code",
   "execution_count": 88,
   "id": "5d42ba67-cff3-4246-aa98-60fcc47de373",
   "metadata": {},
   "outputs": [
    {
     "data": {
      "text/plain": [
       "(torch.Size([2, 21]),\n",
       " tensor([[ 1057,   117,   902,   117,   367,   362,  2867,  3731,   200,    20,\n",
       "            283,  5271,   869,   349,  8119,  4252,   117,  7632,    21,   588,\n",
       "             22],\n",
       "         [15117,  7672,   587,   156,  1938,   115,   367,    20,   870,  1374,\n",
       "            544,    21,   595,    21,   662,   119,   628,   969,  1617,    22,\n",
       "              0]]))"
      ]
     },
     "execution_count": 88,
     "metadata": {},
     "output_type": "execute_result"
    }
   ],
   "source": [
    "encoded_text.input_ids.shape, encoded_text.input_ids"
   ]
  },
  {
   "cell_type": "code",
   "execution_count": 72,
   "id": "f7477583-9d96-4b12-8199-8ae5537f7880",
   "metadata": {},
   "outputs": [
    {
     "data": {
      "text/plain": [
       "torch.Size([2, 21, 768])"
      ]
     },
     "execution_count": 72,
     "metadata": {},
     "output_type": "execute_result"
    }
   ],
   "source": [
    "import torch\n",
    "\n",
    "model.config.output_hidden_states=True\n",
    "with torch.no_grad():  # Disable gradient calculation for inference\n",
    "    outputs = model(**encoded_text)\n",
    "    last_hidden_states = outputs.hidden_states[-1]\n",
    "\n",
    "last_hidden_states.shape"
   ]
  },
  {
   "cell_type": "code",
   "execution_count": 89,
   "id": "eb8e1f34-5256-4daa-b076-f822b419d69c",
   "metadata": {},
   "outputs": [
    {
     "data": {
      "text/plain": [
       "(torch.Size([2, 768]),\n",
       " array([[ 1.4280016 , -0.18435301, -0.03840554, ..., -1.2254812 ,\n",
       "         -0.68361926,  0.7766203 ],\n",
       "        [ 0.8678242 , -0.80565315, -0.9088004 , ..., -0.47340122,\n",
       "          0.38405433,  0.7781875 ]], dtype=float32))"
      ]
     },
     "execution_count": 89,
     "metadata": {},
     "output_type": "execute_result"
    }
   ],
   "source": [
    "compressed_emb = last_hidden_states.mean(dim=1)\n",
    "compressed_emb.shape, compressed_emb.numpy()"
   ]
  },
  {
   "cell_type": "markdown",
   "id": "b5af927e-ab34-4f27-aa9e-4a9ca7b330c5",
   "metadata": {},
   "source": [
    "Since we have have a large dataset, we'll do inference in batches. We create a function for this."
   ]
  },
  {
   "cell_type": "code",
   "execution_count": 106,
   "id": "f6719299-ed22-4aab-a1d0-d937b71fe7ee",
   "metadata": {},
   "outputs": [],
   "source": [
    "from tqdm import tqdm\n",
    "\n",
    "def get_embeddings(documents, batch_size=100):\n",
    "    embedding_batches = []\n",
    "    for i in tqdm(range(0, len(documents), batch_size)):\n",
    "        batch = documents[i:i+batch_size]\n",
    "        encoded_text = tokenizer(batch, padding=True, return_tensors='pt')\n",
    "        with torch.no_grad():\n",
    "            outputs = model(**encoded_text)\n",
    "            last_hidden_states = outputs.hidden_states[-1]\n",
    "            embedding_batches.append(last_hidden_states.mean(dim=1).numpy())\n",
    "    return np.vstack(embedding_batches)    "
   ]
  },
  {
   "cell_type": "code",
   "execution_count": 107,
   "id": "2effa3e3-6963-4d35-b074-40f51e570d1d",
   "metadata": {},
   "outputs": [
    {
     "name": "stderr",
     "output_type": "stream",
     "text": [
      "100%|███████████████████████████████████████████████████████████████████| 77/77 [29:11<00:00, 22.74s/it]\n"
     ]
    }
   ],
   "source": [
    "X_emb = get_embeddings(df.documents.to_list())"
   ]
  },
  {
   "cell_type": "markdown",
   "id": "9cf6528d-eeff-4549-8dda-71f107c15085",
   "metadata": {},
   "source": [
    "We also convert the query into embeddings:"
   ]
  },
  {
   "cell_type": "code",
   "execution_count": 111,
   "id": "caa01966-2f54-4269-accf-f5280b703708",
   "metadata": {},
   "outputs": [
    {
     "name": "stderr",
     "output_type": "stream",
     "text": [
      "100%|██████████████████████████████████████████| 1/1 [00:00<00:00, 19.17it/s]\n"
     ]
    }
   ],
   "source": [
    "q_emb = get_embeddings([query], batch_size=1)"
   ]
  },
  {
   "cell_type": "code",
   "execution_count": 116,
   "id": "c1a82c20-cab8-44b7-a07d-4d2c15e00192",
   "metadata": {},
   "outputs": [
    {
     "data": {
      "text/plain": [
       "((7672, 768), (1, 768))"
      ]
     },
     "execution_count": 116,
     "metadata": {},
     "output_type": "execute_result"
    }
   ],
   "source": [
    "X_emb.shape, q_emb.shape"
   ]
  },
  {
   "cell_type": "markdown",
   "id": "5b96b4b3-9ae3-4a53-b427-e14f3f1aa04e",
   "metadata": {},
   "source": [
    "We then perform a search using BERT embeddings:"
   ]
  },
  {
   "cell_type": "code",
   "execution_count": 118,
   "id": "a7264120-4900-4951-9e2f-a412b6aa6d9e",
   "metadata": {},
   "outputs": [
    {
     "data": {
      "text/html": [
       "<div>\n",
       "<style scoped>\n",
       "    .dataframe tbody tr th:only-of-type {\n",
       "        vertical-align: middle;\n",
       "    }\n",
       "\n",
       "    .dataframe tbody tr th {\n",
       "        vertical-align: top;\n",
       "    }\n",
       "\n",
       "    .dataframe thead th {\n",
       "        text-align: right;\n",
       "    }\n",
       "</style>\n",
       "<table border=\"1\" class=\"dataframe\">\n",
       "  <thead>\n",
       "    <tr style=\"text-align: right;\">\n",
       "      <th></th>\n",
       "      <th>documents</th>\n",
       "    </tr>\n",
       "  </thead>\n",
       "  <tbody>\n",
       "    <tr>\n",
       "      <th>5679</th>\n",
       "      <td>Nchi tatu za Africa zinamaambukizi zaidi katika mlipuko wa virusi vya corona bara la Afrika, lakini naibu mkurugenzi wa Vituo vya Kudhibiti Magonjwa na Kinga Afrika wanasema bara lote lazima lichukue hatua.</td>\n",
       "    </tr>\n",
       "    <tr>\n",
       "      <th>3020</th>\n",
       "      <td>“Umoja wa Afrika unaunga kwa dhati juhudi za WHO katika kupambana na virusi vya Corona na kutaka viongozi wote wa dunia, kuungana katika kuzuia maambukizi na vifo kutokana na virusi hivo” ameandika Mahamat kwenye mtandao huo.</td>\n",
       "    </tr>\n",
       "    <tr>\n",
       "      <th>6369</th>\n",
       "      <td>Mkurugenzi Mkuu wa Shirika la Afya Duniani Tedros Adhanom Ghebreyesus, ameonya kufungwa kwa mipaka ya nchi na kusitisha shughuli zote ili kupambana na janga la COVID 19 kunaweza kusababisha kuongezeka kwa vifo kutokana na ugonjwa wa Malaria katika nchi za Afrika.</td>\n",
       "    </tr>\n",
       "    <tr>\n",
       "      <th>6932</th>\n",
       "      <td>Mkuu wa Shirika la Afya, WHO, nchini Burundi alifukuzwa wiki iliyopita baada ya kueleza wasiwasi wake juu ya uelewa wa serikali unavyokinzana na hatari inayoletwa na virusi vya corona.</td>\n",
       "    </tr>\n",
       "    <tr>\n",
       "      <th>2536</th>\n",
       "      <td>Shirika la Afya Duniani, WHO, limeripoti kuchukuwa hatua za haraka kukabiliana na mlipuko wa virusi vya Ebola nchini Uganda, huku hatua za madhubuti zikichukuliwa kuhakikisha kwamba watu wanaoishi kwenye mpaka wa Uganda na Jamhuri ya Kidemokrasia ya Congo wanaanza kupokea chanjo dhidi ya Ebola Hadi sasa, visa vitatu vya maambukizi vimethibitishwa ikiwemo kifo kimoja.</td>\n",
       "    </tr>\n",
       "    <tr>\n",
       "      <th>3022</th>\n",
       "      <td>“Inasikitisha kwamba nchi kadhaa duniani na mashirika mbalimbali, ikiwemo Marekani, China na shirika la afya duniani, yanakabiliwa na tishio la maambukizi ya Corona.</td>\n",
       "    </tr>\n",
       "    <tr>\n",
       "      <th>7387</th>\n",
       "      <td>Ushauri wa WHO  Jumanne wakurugenzi wakuu wa WHO walikutana na kutoa ushauri wa kuzitaka nchi zote duniani kushirikiana katika kupashana habari na kubadilishana takwimu juu ya virusi vya Corona.</td>\n",
       "    </tr>\n",
       "    <tr>\n",
       "      <th>5145</th>\n",
       "      <td>Wakati timu za wanaokabiliana na Ebola wakihangaika kudhibiti mlipuko wa ugonjwa huo huko Jamhuri ya Kidemokrasia ya Congo, DRC, mawaziri wa afya wa Jumuiya ya Afrika Mashariki (EAC) wanasema wanatambua hatari zake na wanatathmini kuanza kutumia chanjo ya Ebola iliyoko katika majaribio.</td>\n",
       "    </tr>\n",
       "    <tr>\n",
       "      <th>3626</th>\n",
       "      <td>Wataalam wa Shirika la Afya Duniani, WHO, wametoa mwelekeo mpya wa kutoa chanjo katika juhudi za kupambana na mlipuko wa Ebola katika Jamhuri ya Kidemokrasia ya Congo, DRC.</td>\n",
       "    </tr>\n",
       "    <tr>\n",
       "      <th>2460</th>\n",
       "      <td>Shirika la Afya Duniani (WHO) Ijumaa limeonya kuwa watu 190,000 wanaweza kupoteza maisha mwaka 2020 barani Africa, iwapo serikali zitashindwa kudhibiti maambukizi ya virus vya corona.</td>\n",
       "    </tr>\n",
       "  </tbody>\n",
       "</table>\n",
       "</div>"
      ],
      "text/plain": [
       "                                                                                                                                                                                                                                                                                                                                                                              documents\n",
       "5679                                                                                                                                                                     Nchi tatu za Africa zinamaambukizi zaidi katika mlipuko wa virusi vya corona bara la Afrika, lakini naibu mkurugenzi wa Vituo vya Kudhibiti Magonjwa na Kinga Afrika wanasema bara lote lazima lichukue hatua.\n",
       "3020                                                                                                                                                  “Umoja wa Afrika unaunga kwa dhati juhudi za WHO katika kupambana na virusi vya Corona na kutaka viongozi wote wa dunia, kuungana katika kuzuia maambukizi na vifo kutokana na virusi hivo” ameandika Mahamat kwenye mtandao huo.\n",
       "6369                                                                                                            Mkurugenzi Mkuu wa Shirika la Afya Duniani Tedros Adhanom Ghebreyesus, ameonya kufungwa kwa mipaka ya nchi na kusitisha shughuli zote ili kupambana na janga la COVID 19 kunaweza kusababisha kuongezeka kwa vifo kutokana na ugonjwa wa Malaria katika nchi za Afrika.\n",
       "6932                                                                                                                                                                                           Mkuu wa Shirika la Afya, WHO, nchini Burundi alifukuzwa wiki iliyopita baada ya kueleza wasiwasi wake juu ya uelewa wa serikali unavyokinzana na hatari inayoletwa na virusi vya corona.\n",
       "2536  Shirika la Afya Duniani, WHO, limeripoti kuchukuwa hatua za haraka kukabiliana na mlipuko wa virusi vya Ebola nchini Uganda, huku hatua za madhubuti zikichukuliwa kuhakikisha kwamba watu wanaoishi kwenye mpaka wa Uganda na Jamhuri ya Kidemokrasia ya Congo wanaanza kupokea chanjo dhidi ya Ebola Hadi sasa, visa vitatu vya maambukizi vimethibitishwa ikiwemo kifo kimoja.\n",
       "3022                                                                                                                                                                                                              “Inasikitisha kwamba nchi kadhaa duniani na mashirika mbalimbali, ikiwemo Marekani, China na shirika la afya duniani, yanakabiliwa na tishio la maambukizi ya Corona.\n",
       "7387                                                                                                                                                                                 Ushauri wa WHO  Jumanne wakurugenzi wakuu wa WHO walikutana na kutoa ushauri wa kuzitaka nchi zote duniani kushirikiana katika kupashana habari na kubadilishana takwimu juu ya virusi vya Corona.\n",
       "5145                                                                                    Wakati timu za wanaokabiliana na Ebola wakihangaika kudhibiti mlipuko wa ugonjwa huo huko Jamhuri ya Kidemokrasia ya Congo, DRC, mawaziri wa afya wa Jumuiya ya Afrika Mashariki (EAC) wanasema wanatambua hatari zake na wanatathmini kuanza kutumia chanjo ya Ebola iliyoko katika majaribio.\n",
       "3626                                                                                                                                                                                                       Wataalam wa Shirika la Afya Duniani, WHO, wametoa mwelekeo mpya wa kutoa chanjo katika juhudi za kupambana na mlipuko wa Ebola katika Jamhuri ya Kidemokrasia ya Congo, DRC.\n",
       "2460                                                                                                                                                                                            Shirika la Afya Duniani (WHO) Ijumaa limeonya kuwa watu 190,000 wanaweza kupoteza maisha mwaka 2020 barani Africa, iwapo serikali zitashindwa kudhibiti maambukizi ya virus vya corona."
      ]
     },
     "execution_count": 118,
     "metadata": {},
     "output_type": "execute_result"
    }
   ],
   "source": [
    "search(X_emb, q_emb)"
   ]
  },
  {
   "cell_type": "code",
   "execution_count": 119,
   "id": "43e2c6d5-8f70-4f2d-9986-7054833d83be",
   "metadata": {},
   "outputs": [
    {
     "data": {
      "text/plain": [
       "'nchi za afrika zinajadiliana na shirika la afya kutafuta njia za kukabiliana na janga la corona'"
      ]
     },
     "execution_count": 119,
     "metadata": {},
     "output_type": "execute_result"
    }
   ],
   "source": [
    "query"
   ]
  },
  {
   "cell_type": "code",
   "execution_count": null,
   "id": "90af1997-422b-48e8-a2db-36fe401d679f",
   "metadata": {},
   "outputs": [],
   "source": []
  }
 ],
 "metadata": {
  "kernelspec": {
   "display_name": "Python 3 (ipykernel)",
   "language": "python",
   "name": "python3"
  },
  "language_info": {
   "codemirror_mode": {
    "name": "ipython",
    "version": 3
   },
   "file_extension": ".py",
   "mimetype": "text/x-python",
   "name": "python",
   "nbconvert_exporter": "python",
   "pygments_lexer": "ipython3",
   "version": "3.12.4"
  }
 },
 "nbformat": 4,
 "nbformat_minor": 5
}
